{
 "cells": [
  {
   "cell_type": "code",
   "execution_count": 1,
   "metadata": {},
   "outputs": [],
   "source": [
    "import pandas as pd\n",
    "import numpy as np\n",
    "from data import read_data"
   ]
  },
  {
   "cell_type": "code",
   "execution_count": 2,
   "metadata": {},
   "outputs": [],
   "source": [
    "datalist, label_set = read_data('../data/train_data/train.txt')"
   ]
  },
  {
   "cell_type": "code",
   "execution_count": 3,
   "metadata": {},
   "outputs": [],
   "source": [
    "df = pd.DataFrame(datalist)"
   ]
  },
  {
   "cell_type": "code",
   "execution_count": 4,
   "metadata": {},
   "outputs": [
    {
     "data": {
      "text/html": [
       "<div>\n",
       "<style scoped>\n",
       "    .dataframe tbody tr th:only-of-type {\n",
       "        vertical-align: middle;\n",
       "    }\n",
       "\n",
       "    .dataframe tbody tr th {\n",
       "        vertical-align: top;\n",
       "    }\n",
       "\n",
       "    .dataframe thead th {\n",
       "        text-align: right;\n",
       "    }\n",
       "</style>\n",
       "<table border=\"1\" class=\"dataframe\">\n",
       "  <thead>\n",
       "    <tr style=\"text-align: right;\">\n",
       "      <th></th>\n",
       "      <th>text</th>\n",
       "      <th>label</th>\n",
       "    </tr>\n",
       "  </thead>\n",
       "  <tbody>\n",
       "    <tr>\n",
       "      <th>0</th>\n",
       "      <td>手机三脚架网红直播支架桌面自拍杆蓝牙遥控三脚架摄影拍摄拍照抖音看电视神器三角架便携伸缩懒人户...</td>\n",
       "      <td>[{'start_idx': 0, 'end_idx': 1, 'type': '40', ...</td>\n",
       "    </tr>\n",
       "    <tr>\n",
       "      <th>1</th>\n",
       "      <td>牛皮纸袋手提袋定制logo烘焙购物服装包装外卖打包袋子礼品袋纸质 黑色 32*11*25 大...</td>\n",
       "      <td>[{'start_idx': 0, 'end_idx': 3, 'type': '4', '...</td>\n",
       "    </tr>\n",
       "    <tr>\n",
       "      <th>2</th>\n",
       "      <td>彩色金属镂空鱼尾夹长尾夹 手帐设计绘图文具收纳 夹子 鱼尾夹炫彩大号</td>\n",
       "      <td>[{'start_idx': 0, 'end_idx': 1, 'type': '16', ...</td>\n",
       "    </tr>\n",
       "    <tr>\n",
       "      <th>3</th>\n",
       "      <td>Bose SoundSport Free 真无线蓝牙耳机 运动耳机 博士防掉落耳塞 黑色</td>\n",
       "      <td>[{'start_idx': 0, 'end_idx': 3, 'type': '1', '...</td>\n",
       "    </tr>\n",
       "    <tr>\n",
       "      <th>4</th>\n",
       "      <td>壁挂炉专用水空调散热器带风扇暖气片水暖空调明装吹风机盘管家用 流线85#6进6出24铜管(左...</td>\n",
       "      <td>[{'start_idx': 0, 'end_idx': 2, 'type': '4', '...</td>\n",
       "    </tr>\n",
       "  </tbody>\n",
       "</table>\n",
       "</div>"
      ],
      "text/plain": [
       "                                                text  \\\n",
       "0  手机三脚架网红直播支架桌面自拍杆蓝牙遥控三脚架摄影拍摄拍照抖音看电视神器三角架便携伸缩懒人户...   \n",
       "1  牛皮纸袋手提袋定制logo烘焙购物服装包装外卖打包袋子礼品袋纸质 黑色 32*11*25 大...   \n",
       "2                 彩色金属镂空鱼尾夹长尾夹 手帐设计绘图文具收纳 夹子 鱼尾夹炫彩大号   \n",
       "3       Bose SoundSport Free 真无线蓝牙耳机 运动耳机 博士防掉落耳塞 黑色   \n",
       "4  壁挂炉专用水空调散热器带风扇暖气片水暖空调明装吹风机盘管家用 流线85#6进6出24铜管(左...   \n",
       "\n",
       "                                               label  \n",
       "0  [{'start_idx': 0, 'end_idx': 1, 'type': '40', ...  \n",
       "1  [{'start_idx': 0, 'end_idx': 3, 'type': '4', '...  \n",
       "2  [{'start_idx': 0, 'end_idx': 1, 'type': '16', ...  \n",
       "3  [{'start_idx': 0, 'end_idx': 3, 'type': '1', '...  \n",
       "4  [{'start_idx': 0, 'end_idx': 2, 'type': '4', '...  "
      ]
     },
     "execution_count": 4,
     "metadata": {},
     "output_type": "execute_result"
    }
   ],
   "source": [
    "df.head()"
   ]
  },
  {
   "cell_type": "code",
   "execution_count": 5,
   "metadata": {},
   "outputs": [
    {
     "data": {
      "text/plain": [
       "{'start_idx': 0, 'end_idx': 1, 'type': '40', 'entity': '手机'}"
      ]
     },
     "execution_count": 5,
     "metadata": {},
     "output_type": "execute_result"
    }
   ],
   "source": [
    "df['label'][0][0]"
   ]
  },
  {
   "cell_type": "code",
   "execution_count": 10,
   "metadata": {},
   "outputs": [
    {
     "data": {
      "text/plain": [
       "[[{'start_idx': 0, 'end_idx': 2, 'type': '1', 'entity': '飞利浦'},\n",
       "  {'start_idx': 4, 'end_idx': 10, 'type': '1', 'entity': 'PHILIPS'},\n",
       "  {'start_idx': 12, 'end_idx': 13, 'type': '47', 'entity': '电动'},\n",
       "  {'start_idx': 14, 'end_idx': 16, 'type': '4', 'entity': '牙刷头'},\n",
       "  {'start_idx': 19,\n",
       "   'end_idx': 57,\n",
       "   'type': '38',\n",
       "   'entity': 'HX6730HX3120HX3110HX9362hx6053HX6083/05'},\n",
       "  {'start_idx': 58, 'end_idx': 59, 'type': '11', 'entity': '敏感'},\n",
       "  {'start_idx': 60, 'end_idx': 61, 'type': '11', 'entity': '震动'},\n",
       "  {'start_idx': 62, 'end_idx': 63, 'type': '4', 'entity': '刷头'},\n",
       "  {'start_idx': 64, 'end_idx': 65, 'type': '14', 'entity': '迷你'}]]"
      ]
     },
     "execution_count": 10,
     "metadata": {},
     "output_type": "execute_result"
    }
   ],
   "source": [
    "import json\n",
    "\n",
    "\n",
    "def get_entity(label):\n",
    "    entity = ''\n",
    "    for row in label:\n",
    "        entity += f\" {row['entity']}\"\n",
    "\n",
    "\n",
    "def max_len(label):\n",
    "    max_len = 0\n",
    "    for row in label:\n",
    "        if len(row['entity']) > max_len:\n",
    "            max_len = len(row['entity'])\n",
    "    return max_len\n",
    "\n",
    "df['len'] = df['label'].apply(max_len)\n",
    "df['len'].describe()\n",
    "df.loc[df['len'] == 39, 'label'].tolist()"
   ]
  },
  {
   "cell_type": "code",
   "execution_count": 7,
   "metadata": {},
   "outputs": [],
   "source": [
    "datalist, label_set = read_data('./submit/nezha.txt')\n",
    "df = pd.DataFrame(datalist)\n",
    "df.to_csv('./submit/entity.csv', index=None)"
   ]
  },
  {
   "cell_type": "code",
   "execution_count": null,
   "metadata": {},
   "outputs": [],
   "source": [
    "ceshi"
   ]
  }
 ],
 "metadata": {
  "interpreter": {
   "hash": "3f31cdafcee8aa313d249a62a118f9dafafe7a3c4d7d99fbe10d547330ed6086"
  },
  "kernelspec": {
   "display_name": "Python 3.8.10 ('base')",
   "language": "python",
   "name": "python3"
  },
  "language_info": {
   "codemirror_mode": {
    "name": "ipython",
    "version": 3
   },
   "file_extension": ".py",
   "mimetype": "text/x-python",
   "name": "python",
   "nbconvert_exporter": "python",
   "pygments_lexer": "ipython3",
   "version": "3.8.10"
  },
  "orig_nbformat": 4
 },
 "nbformat": 4,
 "nbformat_minor": 2
}
