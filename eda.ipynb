{
 "cells": [
  {
   "cell_type": "code",
   "execution_count": 1,
   "metadata": {},
   "outputs": [],
   "source": [
    "import pandas as pd\n",
    "import numpy as np\n",
    "from data import read_data"
   ]
  },
  {
   "cell_type": "code",
   "execution_count": 2,
   "metadata": {},
   "outputs": [],
   "source": [
    "datalist, label_set = read_data('../data/train_data/train.txt')"
   ]
  },
  {
   "cell_type": "code",
   "execution_count": 3,
   "metadata": {},
   "outputs": [],
   "source": [
    "df = pd.DataFrame(datalist)"
   ]
  },
  {
   "cell_type": "code",
   "execution_count": 4,
   "metadata": {},
   "outputs": [
    {
     "data": {
      "text/html": [
       "<div>\n",
       "<style scoped>\n",
       "    .dataframe tbody tr th:only-of-type {\n",
       "        vertical-align: middle;\n",
       "    }\n",
       "\n",
       "    .dataframe tbody tr th {\n",
       "        vertical-align: top;\n",
       "    }\n",
       "\n",
       "    .dataframe thead th {\n",
       "        text-align: right;\n",
       "    }\n",
       "</style>\n",
       "<table border=\"1\" class=\"dataframe\">\n",
       "  <thead>\n",
       "    <tr style=\"text-align: right;\">\n",
       "      <th></th>\n",
       "      <th>text</th>\n",
       "      <th>label</th>\n",
       "    </tr>\n",
       "  </thead>\n",
       "  <tbody>\n",
       "    <tr>\n",
       "      <th>0</th>\n",
       "      <td>手机三脚架网红直播支架桌面自拍杆蓝牙遥控三脚架摄影拍摄拍照抖音看电视神器三角架便携伸缩懒人户...</td>\n",
       "      <td>[{'start_idx': 0, 'end_idx': 1, 'type': '40', ...</td>\n",
       "    </tr>\n",
       "    <tr>\n",
       "      <th>1</th>\n",
       "      <td>牛皮纸袋手提袋定制logo烘焙购物服装包装外卖打包袋子礼品袋纸质 黑色 32*11*25 大...</td>\n",
       "      <td>[{'start_idx': 0, 'end_idx': 3, 'type': '4', '...</td>\n",
       "    </tr>\n",
       "    <tr>\n",
       "      <th>2</th>\n",
       "      <td>彩色金属镂空鱼尾夹长尾夹 手帐设计绘图文具收纳 夹子 鱼尾夹炫彩大号</td>\n",
       "      <td>[{'start_idx': 0, 'end_idx': 1, 'type': '16', ...</td>\n",
       "    </tr>\n",
       "    <tr>\n",
       "      <th>3</th>\n",
       "      <td>Bose SoundSport Free 真无线蓝牙耳机 运动耳机 博士防掉落耳塞 黑色</td>\n",
       "      <td>[{'start_idx': 0, 'end_idx': 3, 'type': '1', '...</td>\n",
       "    </tr>\n",
       "    <tr>\n",
       "      <th>4</th>\n",
       "      <td>壁挂炉专用水空调散热器带风扇暖气片水暖空调明装吹风机盘管家用 流线85#6进6出24铜管(左...</td>\n",
       "      <td>[{'start_idx': 0, 'end_idx': 2, 'type': '4', '...</td>\n",
       "    </tr>\n",
       "  </tbody>\n",
       "</table>\n",
       "</div>"
      ],
      "text/plain": [
       "                                                text  \\\n",
       "0  手机三脚架网红直播支架桌面自拍杆蓝牙遥控三脚架摄影拍摄拍照抖音看电视神器三角架便携伸缩懒人户...   \n",
       "1  牛皮纸袋手提袋定制logo烘焙购物服装包装外卖打包袋子礼品袋纸质 黑色 32*11*25 大...   \n",
       "2                 彩色金属镂空鱼尾夹长尾夹 手帐设计绘图文具收纳 夹子 鱼尾夹炫彩大号   \n",
       "3       Bose SoundSport Free 真无线蓝牙耳机 运动耳机 博士防掉落耳塞 黑色   \n",
       "4  壁挂炉专用水空调散热器带风扇暖气片水暖空调明装吹风机盘管家用 流线85#6进6出24铜管(左...   \n",
       "\n",
       "                                               label  \n",
       "0  [{'start_idx': 0, 'end_idx': 1, 'type': '40', ...  \n",
       "1  [{'start_idx': 0, 'end_idx': 3, 'type': '4', '...  \n",
       "2  [{'start_idx': 0, 'end_idx': 1, 'type': '16', ...  \n",
       "3  [{'start_idx': 0, 'end_idx': 3, 'type': '1', '...  \n",
       "4  [{'start_idx': 0, 'end_idx': 2, 'type': '4', '...  "
      ]
     },
     "execution_count": 4,
     "metadata": {},
     "output_type": "execute_result"
    }
   ],
   "source": [
    "df.head()"
   ]
  },
  {
   "cell_type": "code",
   "execution_count": 10,
   "metadata": {},
   "outputs": [
    {
     "data": {
      "text/plain": [
       "{'start_idx': 0, 'end_idx': 1, 'type': '40', 'entity': '手机'}"
      ]
     },
     "execution_count": 10,
     "metadata": {},
     "output_type": "execute_result"
    }
   ],
   "source": [
    "df['label'][0][0]"
   ]
  },
  {
   "cell_type": "code",
   "execution_count": 6,
   "metadata": {},
   "outputs": [
    {
     "data": {
      "text/plain": [
       "[{'start_idx': 0, 'end_idx': 1, 'type': '40', 'entity': '手机'},\n",
       " {'start_idx': 2, 'end_idx': 4, 'type': '4', 'entity': '三脚架'},\n",
       " {'start_idx': 5, 'end_idx': 6, 'type': '14', 'entity': '网红'},\n",
       " {'start_idx': 7, 'end_idx': 8, 'type': '5', 'entity': '直播'},\n",
       " {'start_idx': 9, 'end_idx': 10, 'type': '4', 'entity': '支架'},\n",
       " {'start_idx': 11, 'end_idx': 12, 'type': '7', 'entity': '桌面'},\n",
       " {'start_idx': 13, 'end_idx': 15, 'type': '4', 'entity': '自拍杆'},\n",
       " {'start_idx': 16, 'end_idx': 17, 'type': '11', 'entity': '蓝牙'},\n",
       " {'start_idx': 18, 'end_idx': 19, 'type': '11', 'entity': '遥控'},\n",
       " {'start_idx': 20, 'end_idx': 22, 'type': '4', 'entity': '三脚架'},\n",
       " {'start_idx': 23, 'end_idx': 24, 'type': '5', 'entity': '摄影'},\n",
       " {'start_idx': 25, 'end_idx': 26, 'type': '5', 'entity': '拍摄'},\n",
       " {'start_idx': 27, 'end_idx': 28, 'type': '5', 'entity': '拍照'},\n",
       " {'start_idx': 29, 'end_idx': 30, 'type': '13', 'entity': '抖音'},\n",
       " {'start_idx': 31, 'end_idx': 35, 'type': '4', 'entity': '看电视神器'},\n",
       " {'start_idx': 36, 'end_idx': 38, 'type': '4', 'entity': '三角架'},\n",
       " {'start_idx': 39, 'end_idx': 40, 'type': '11', 'entity': '便携'},\n",
       " {'start_idx': 41, 'end_idx': 42, 'type': '11', 'entity': '伸缩'},\n",
       " {'start_idx': 43, 'end_idx': 44, 'type': '8', 'entity': '懒人'},\n",
       " {'start_idx': 45, 'end_idx': 46, 'type': '7', 'entity': '户外'},\n",
       " {'start_idx': 47, 'end_idx': 49, 'type': '4', 'entity': '支撑架'},\n",
       " {'start_idx': 52, 'end_idx': 54, 'type': '16', 'entity': '女神粉'},\n",
       " {'start_idx': 58, 'end_idx': 60, 'type': '4', 'entity': '三脚架'},\n",
       " {'start_idx': 62, 'end_idx': 63, 'type': '11', 'entity': '蓝牙'},\n",
       " {'start_idx': 64, 'end_idx': 65, 'type': '11', 'entity': '遥控'}]"
      ]
     },
     "execution_count": 6,
     "metadata": {},
     "output_type": "execute_result"
    }
   ],
   "source": [
    "import json\n",
    "def get_entity(label):\n",
    "    entity = ''\n",
    "    for row in label:\n",
    "        entity += f\" {row['entity']}\"\n",
    "\n",
    "# TODO 统计实体最大长度\n",
    "    "
   ]
  },
  {
   "cell_type": "code",
   "execution_count": null,
   "metadata": {},
   "outputs": [],
   "source": []
  }
 ],
 "metadata": {
  "interpreter": {
   "hash": "3b80add2a2b11d514977d8a594b381c4c27ef80fe29cc35ee1dc587a338e4233"
  },
  "kernelspec": {
   "display_name": "Python 3.8.10 ('base')",
   "language": "python",
   "name": "python3"
  },
  "language_info": {
   "codemirror_mode": {
    "name": "ipython",
    "version": 3
   },
   "file_extension": ".py",
   "mimetype": "text/x-python",
   "name": "python",
   "nbconvert_exporter": "python",
   "pygments_lexer": "ipython3",
   "version": "3.8.10"
  },
  "orig_nbformat": 4
 },
 "nbformat": 4,
 "nbformat_minor": 2
}
