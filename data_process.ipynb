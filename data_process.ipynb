{
 "cells": [
  {
   "cell_type": "code",
   "execution_count": 3,
   "metadata": {},
   "outputs": [
    {
     "name": "stderr",
     "output_type": "stream",
     "text": [
      "100%|██████████| 2288790/2288790 [00:01<00:00, 1180096.38it/s]\n"
     ]
    }
   ],
   "source": [
    "with open('../data/train_data/train.txt', 'r', encoding='utf-8') as f:\n",
    "    lines = f.readlines()\n",
    "labels = []\n",
    "sentences = []\n",
    "sentence = ''\n",
    "for line in lines:\n",
    "    if line != '\\n':\n",
    "        labels.append(line[2:].strip('\\n'))\n",
    "        sentence += line[0]\n",
    "    else:\n",
    "        sentences.append(sentence)\n",
    "        sentence = ''"
   ]
  },
  {
   "cell_type": "code",
   "execution_count": 4,
   "metadata": {},
   "outputs": [],
   "source": [
    "with open('../data/preliminary_test_a/sample_per_line_train.txt', 'w', encoding='utf-8') as f:\n",
    "    for sentence in sentences:\n",
    "        f.write(sentence + '\\n')"
   ]
  },
  {
   "cell_type": "code",
   "execution_count": 1,
   "metadata": {},
   "outputs": [],
   "source": [
    "with open('../data/train_data/train.txt', 'r', encoding='utf-8') as f:\n",
    "    lines1 = f.readlines()\n",
    "with open('./submit/labels_merged_res.txt', 'r', encoding='utf-8') as f:\n",
    "    lines2 = f.readlines()\n",
    "with open('./submit/extend_labels_merged_res_4w.txt', 'r', encoding='utf-8') as f:\n",
    "    lines3 = f.readlines()\n",
    "with open('./mix_train_data.txt', 'w', encoding='utf-8') as f:\n",
    "    for line in lines1:\n",
    "        f.write(line)\n",
    "    for line in lines2:\n",
    "        f.write(line)\n",
    "    for line in lines3:\n",
    "        f.write(line)"
   ]
  },
  {
   "cell_type": "code",
   "execution_count": 23,
   "metadata": {},
   "outputs": [],
   "source": [
    "with open('../data/train_data/unlabeled_train_data.txt', 'r', encoding='utf-8') as f:\n",
    "    lines = f.readlines()\n",
    "import random\n",
    "random.shuffle(lines)\n",
    "with open('./sample_per_line_extend_data.txt', 'w', encoding='utf-8') as f:\n",
    "    for line in lines[:420000]:\n",
    "        f.write(line)"
   ]
  },
  {
   "cell_type": "markdown",
   "metadata": {},
   "source": [
    "### 训练集去噪"
   ]
  },
  {
   "cell_type": "code",
   "execution_count": null,
   "metadata": {},
   "outputs": [],
   "source": []
  }
 ],
 "metadata": {
  "interpreter": {
   "hash": "3b80add2a2b11d514977d8a594b381c4c27ef80fe29cc35ee1dc587a338e4233"
  },
  "kernelspec": {
   "display_name": "Python 3.8.10 ('base')",
   "language": "python",
   "name": "python3"
  },
  "language_info": {
   "codemirror_mode": {
    "name": "ipython",
    "version": 3
   },
   "file_extension": ".py",
   "mimetype": "text/x-python",
   "name": "python",
   "nbconvert_exporter": "python",
   "pygments_lexer": "ipython3",
   "version": "3.8.10"
  },
  "orig_nbformat": 4
 },
 "nbformat": 4,
 "nbformat_minor": 2
}
