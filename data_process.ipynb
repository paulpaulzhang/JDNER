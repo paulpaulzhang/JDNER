{
 "cells": [
  {
   "cell_type": "code",
   "execution_count": 3,
   "metadata": {},
   "outputs": [
    {
     "name": "stderr",
     "output_type": "stream",
     "text": [
      "100%|██████████| 2288790/2288790 [00:01<00:00, 1180096.38it/s]\n"
     ]
    }
   ],
   "source": [
    "with open('../data/train_data/train.txt', 'r', encoding='utf-8') as f:\n",
    "    lines = f.readlines()\n",
    "labels = []\n",
    "sentences = []\n",
    "sentence = ''\n",
    "for line in lines:\n",
    "    if line != '\\n':\n",
    "        labels.append(line[2:].strip('\\n'))\n",
    "        sentence += line[0]\n",
    "    else:\n",
    "        sentences.append(sentence)\n",
    "        sentence = ''"
   ]
  },
  {
   "cell_type": "code",
   "execution_count": 4,
   "metadata": {},
   "outputs": [],
   "source": [
    "with open('../data/preliminary_test_a/sample_per_line_train.txt', 'w', encoding='utf-8') as f:\n",
    "    for sentence in sentences:\n",
    "        f.write(sentence + '\\n')"
   ]
  },
  {
   "cell_type": "code",
   "execution_count": 32,
   "metadata": {},
   "outputs": [],
   "source": [
    "with open('./extend_data/denoised_train_data.txt', 'r', encoding='utf-8') as f:\n",
    "    lines1 = f.readlines()\n",
    "# with open('./submit/labels_merged_res.txt', 'r', encoding='utf-8') as f:\n",
    "#     lines2 = f.readlines()\n",
    "with open('./extend_data/extend_labels_merged_res_10w.txt', 'r', encoding='utf-8') as f:\n",
    "    lines3 = f.readlines()\n",
    "with open('./mix_train_data_de_14w.txt', 'w', encoding='utf-8') as f:\n",
    "    for line in lines1:\n",
    "        f.write(line)\n",
    "    # for line in lines2:\n",
    "    #     f.write(line)\n",
    "    for line in lines3:\n",
    "        f.write(line)"
   ]
  },
  {
   "cell_type": "code",
   "execution_count": 23,
   "metadata": {},
   "outputs": [],
   "source": [
    "with open('../data/train_data/unlabeled_train_data.txt', 'r', encoding='utf-8') as f:\n",
    "    lines = f.readlines()\n",
    "import random\n",
    "random.shuffle(lines)\n",
    "with open('./sample_per_line_extend_data.txt', 'w', encoding='utf-8') as f:\n",
    "    for line in lines[:420000]:\n",
    "        f.write(line)"
   ]
  },
  {
   "cell_type": "markdown",
   "metadata": {},
   "source": [
    "### 训练集去噪"
   ]
  },
  {
   "cell_type": "code",
   "execution_count": 1,
   "metadata": {},
   "outputs": [],
   "source": [
    "import os\n",
    "from collections import Counter\n",
    "\n",
    "\n",
    "class Args:\n",
    "    def __init__(self):\n",
    "        self.save_path = './submit/'\n",
    "        self.model_type = 'train_cv_model'\n",
    "        self.fold = 10\n",
    "        self.extend_save_path = './extend_data/'\n",
    "        self.save_name = 'train_denoised__data.txt'\n",
    "\n",
    "\n",
    "args = Args()\n",
    "\n",
    "\n",
    "def denoising(args):\n",
    "    save_path = os.path.join(args.save_path, args.model_type)\n",
    "    all_labels = []\n",
    "    chars = []\n",
    "    true_label = []\n",
    "\n",
    "    path = os.path.join(\n",
    "        save_path, f'{args.model_type}-1.txt')\n",
    "    with open(path, 'r', encoding='utf-8') as f:\n",
    "        lines = f.readlines()\n",
    "        true_label = lines\n",
    "        for line in lines:\n",
    "            if line != '\\n':\n",
    "                chars.append(line[0])\n",
    "            else:\n",
    "                chars.append('\\n')\n",
    "\n",
    "    for fold in range(1, args.fold+1):\n",
    "        labels = []\n",
    "        path = os.path.join(\n",
    "            save_path, f'{args.model_type}-{fold}.txt')\n",
    "        with open(path, 'r', encoding='utf-8') as f:\n",
    "            lines = f.readlines()\n",
    "            for line in lines:\n",
    "                if line != '\\n':\n",
    "                    labels.append(line[2:].strip('\\n'))\n",
    "                else:\n",
    "                    labels.append(line)\n",
    "        all_labels.append(labels)\n",
    "\n",
    "    merged_label = []\n",
    "    for row in zip(*all_labels):\n",
    "        label = Counter(row).most_common(n=1)\n",
    "        merged_label.append(label[0])\n",
    "\n",
    "# TODO\n",
    "    out_labels = []\n",
    "    for d_label, t_label in zip(merged_label, true_label):\n",
    "        d_l, d_n = d_label\n",
    "        if t_label == '\\n':\n",
    "            out_labels.append('\\n')\n",
    "        else:\n",
    "            if d_n == 10:\n",
    "                char = t_label[:2]\n",
    "                out_labels.append(char + d_l)\n",
    "            else:\n",
    "                out_labels.append(t_label.strip('\\n'))\n",
    "\n",
    "    with open(os.path.join(args.extend_save_path, args.save_name), 'w', encoding='utf-8') as f:\n",
    "        for line in out_labels:\n",
    "            if line == '\\n':\n",
    "                f.write('\\n')\n",
    "            else:\n",
    "                f.write(line + '\\n')\n",
    "\n",
    "denoising(args)\n"
   ]
  },
  {
   "cell_type": "code",
   "execution_count": 3,
   "metadata": {},
   "outputs": [],
   "source": [
    "with open(os.path.join(args.extend_save_path, args.save_name), 'r', encoding='utf-8') as f:\n",
    "    d_lines = f.readlines()\n",
    "with open('../data/train_data/train.txt', 'r', encoding='utf-8') as f:\n",
    "    t_lines = f.readlines()   \n",
    "\n",
    "with open('./extend_data/diff.txt', 'w', encoding='utf-8') as f:\n",
    "    for d, t in zip(d_lines, t_lines):\n",
    "        if d != t:\n",
    "            f.write(t.strip('\\n') + '\\t' + d)"
   ]
  },
  {
   "cell_type": "code",
   "execution_count": null,
   "metadata": {},
   "outputs": [],
   "source": []
  }
 ],
 "metadata": {
  "interpreter": {
   "hash": "3b80add2a2b11d514977d8a594b381c4c27ef80fe29cc35ee1dc587a338e4233"
  },
  "kernelspec": {
   "display_name": "Python 3.8.10 ('base')",
   "language": "python",
   "name": "python3"
  },
  "language_info": {
   "codemirror_mode": {
    "name": "ipython",
    "version": 3
   },
   "file_extension": ".py",
   "mimetype": "text/x-python",
   "name": "python",
   "nbconvert_exporter": "python",
   "pygments_lexer": "ipython3",
   "version": "3.8.10"
  },
  "orig_nbformat": 4
 },
 "nbformat": 4,
 "nbformat_minor": 2
}
